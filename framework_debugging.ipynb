{
 "cells": [
  {
   "cell_type": "code",
   "execution_count": 1,
   "id": "80356bf2",
   "metadata": {},
   "outputs": [],
   "source": [
    "# just suppressing the CUDA warnings from keras\n",
    "import os\n",
    "os.environ['TF_CPP_MIN_LOG_LEVEL'] = '2'\n",
    "\n",
    "# importing the required modules\n",
    "import sys\n",
    "sys.path.insert(1, '/nfs/dust/cms/user/flabe/L1Trigger/Jupyter/run3/framework/src')\n",
    "from loadData import readFromL1Ntuple, readFromAnomalyBackgroundh5, readFromAnomalySignalh5\n",
    "from preprocessing import prepareData\n",
    "from inference import runInference, defineTriggerFromThreshold\n",
    "from plotting import plotSculpting"
   ]
  },
  {
   "cell_type": "code",
   "execution_count": 2,
   "id": "5a3a3c87",
   "metadata": {},
   "outputs": [
    {
     "name": "stdout",
     "output_type": "stream",
     "text": [
      "Reading from L1 ntuples in /nfs/dust/cms/user/flabe/L1Trigger/data/root/fromAnomaly/GluGluToHHTo4B_node_cHHH1_TuneCP5_14TeV-powheg-pythia8/mcRun3_Run3Summer21DRPremix-120X_v6-v2/211224_001418/0000.\n",
      "Found 66 files.\n",
      "Starting to read objects...\n",
      "Starting to read L1 trigger bits...\n",
      "Done!\n"
     ]
    }
   ],
   "source": [
    "# reading the data\n",
    "info, data, trigger_bits = readFromL1Ntuple(\n",
    "    \"/nfs/dust/cms/user/flabe/L1Trigger/data/root/fromAnomaly/GluGluToHHTo4B_node_cHHH1_TuneCP5_14TeV-powheg-pythia8/mcRun3_Run3Summer21DRPremix-120X_v6-v2/211224_001418/0000\",\n",
    "    \"/nfs/dust/cms/user/flabe/L1Trigger/Jupyter/run3/framework/data/Prescale_2022_v0_1_1.csv\",\n",
    "    moreInfo = {\"input\": \"HH to 4B SM\"},\n",
    "    verbosity = 1)"
   ]
  },
  {
   "cell_type": "code",
   "execution_count": 3,
   "metadata": {},
   "outputs": [],
   "source": [
    "# defining model info\n",
    "model_folder = \"/nfs/dust/cms/user/flabe/L1Trigger/Jupyter/run3/models/haa4b_ma60__newFormat/\"\n",
    "model_name = \"model_fold0.h5\""
   ]
  },
  {
   "cell_type": "code",
   "execution_count": 4,
   "id": "53890b81",
   "metadata": {},
   "outputs": [
    {
     "name": "stdout",
     "output_type": "stream",
     "text": [
      "Preparing data for type topo...\n",
      "Loading model from /nfs/dust/cms/user/flabe/L1Trigger/Jupyter/run3/models/haa4b_ma60__newFormat/model_fold0.h5...\n",
      "Starting inference...\n",
      "Defining Trigger by requiring score > 0.999.\n"
     ]
    }
   ],
   "source": [
    "# preparinf the data and running the inference\n",
    "\n",
    "x = prepareData(model_folder, data, verbosity=1)\n",
    "y_pred = runInference(model_folder + model_name, x, verbosity = 1)\n",
    "trigger_bit = defineTriggerFromThreshold(y_pred, 0.999, \"L1_NN\", verbosity = 1)"
   ]
  },
  {
   "cell_type": "code",
   "execution_count": 5,
   "metadata": {},
   "outputs": [
    {
     "data": {
      "image/png": "[encoded data removed]",
      "text/plain": [
       "<Figure size 432x288 with 1 Axes>"
      ]
     },
     "metadata": {
      "needs_background": "light"
     },
     "output_type": "display_data"
    }
   ],
   "source": [
    "plotSculpting(data[\"muons\"].pt, trigger_bit)"
   ]
  },
  {
   "cell_type": "code",
   "execution_count": null,
   "metadata": {},
   "outputs": [],
   "source": []
  },
  {
   "cell_type": "code",
   "execution_count": null,
   "metadata": {},
   "outputs": [],
   "source": []
  }
 ],
 "metadata": {
  "kernelspec": {
   "display_name": "new_pip_setup",
   "language": "python",
   "name": "new_pip_setup"
  },
  "language_info": {
   "codemirror_mode": {
    "name": "ipython",
    "version": 3
   },
   "file_extension": ".py",
   "mimetype": "text/x-python",
   "name": "python",
   "nbconvert_exporter": "python",
   "pygments_lexer": "ipython3",
   "version": "3.7.11"
  }
 },
 "nbformat": 4,
 "nbformat_minor": 5
}
